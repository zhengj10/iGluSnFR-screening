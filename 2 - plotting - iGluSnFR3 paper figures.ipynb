{
 "cells": [
  {
   "cell_type": "code",
   "execution_count": 1,
   "id": "e97b8eb3",
   "metadata": {},
   "outputs": [],
   "source": [
    "import pandas as pd\n",
    "import matplotlib.pyplot as plt\n",
    "import h5py\n",
    "import scipy.signal as ss\n",
    "import seaborn as sns\n",
    "import numpy as np\n",
    "from skimage.io import imread\n",
    "from glob import glob\n",
    "import os\n",
    "import h5py\n",
    "import matplotlib.colors"
   ]
  },
  {
   "cell_type": "markdown",
   "id": "67b94e07",
   "metadata": {},
   "source": [
    "### Load data as dataframe"
   ]
  },
  {
   "cell_type": "markdown",
   "id": "fdab1a06",
   "metadata": {},
   "source": [
    "#### Read .pkl files for both single and combo mutants"
   ]
  },
  {
   "cell_type": "code",
   "execution_count": 2,
   "id": "bfacf081",
   "metadata": {},
   "outputs": [
    {
     "data": {
      "text/plain": [
       "(69,)"
      ]
     },
     "execution_count": 2,
     "metadata": {},
     "output_type": "execute_result"
    }
   ],
   "source": [
    "sumPath = '/Users/zhengj10/Desktop/iGluSnFR'\n",
    "df_winner = pd.read_excel(sumPath+'/iGluSnFR4_winners.xlsx')\n",
    "df_winner.construct.unique().shape"
   ]
  },
  {
   "cell_type": "code",
   "execution_count": 3,
   "id": "0daaef73",
   "metadata": {},
   "outputs": [],
   "source": [
    "# df_combo_1AP = pd.read_pickle(sumPath+'/iGluSnFR_screen_combo_1AP.pkl')\n",
    "# df_combo_1AP.construct.unique().shape"
   ]
  },
  {
   "cell_type": "code",
   "execution_count": 4,
   "id": "29a5a154",
   "metadata": {},
   "outputs": [],
   "source": [
    "sumPath = '/Users/zhengj10/Desktop/iGluSnFR'\n",
    "\n",
    "df_single_20AP = pd.read_pickle(sumPath+'/iGluSnFR_screen_single_20AP.pkl')\n",
    "df_combo_20AP = pd.read_pickle(sumPath+'/iGluSnFR_screen_combo_20AP.pkl')\n",
    "\n",
    "df_winner = pd.read_excel(sumPath+'/iGluSnFR4_winners.xlsx')\n",
    "\n",
    "df_single_1AP = pd.read_pickle(sumPath+'/iGluSnFR_screen_single_1AP.pkl')\n",
    "df_single_1AP = df_single_1AP[df_single_1AP['no_pixels']>1e4]\n",
    "df_single_1AP = df_single_1AP[(df_single_1AP['fast_dF'].notna())&(df_single_1AP['dFF'].notna())]\n",
    "\n",
    "construct_id = []\n",
    "fast_dF = []\n",
    "dFF_1AP = []\n",
    "dFF_20AP = []\n",
    "tau_off = []\n",
    "ctr_fast_dF = []\n",
    "color = []\n",
    "count = []\n",
    "\n",
    "winner = []\n",
    "mutation = []\n",
    "\n",
    "for c in df_single_1AP.construct_id.unique():\n",
    "    df_1AP_t = df_single_1AP[df_single_1AP['construct_id']==c]\n",
    "    df_20AP_t = df_single_20AP[df_single_20AP['construct_id']==c]\n",
    "    construct_id.append(c)\n",
    "    fast_dF.append(df_1AP_t.fast_dF.median())\n",
    "    dFF_1AP.append(df_1AP_t.dFF.median())\n",
    "    dFF_20AP.append(df_20AP_t.dFF.median())\n",
    "    tau_off.append(df_1AP_t.tau_off.median())\n",
    "    ctr_fast_dF.append(df_1AP_t.ctr_fast_dF.median())\n",
    "    if df_1AP_t.construct_id_dot.unique()[0] in df_winner['construct'].unique():\n",
    "        color.append('r')\n",
    "        count.append(c)\n",
    "    else:\n",
    "        color.append('gray')\n",
    "    \n",
    "df_single = pd.DataFrame()\n",
    "df_single['construct_id'] = construct_id\n",
    "df_single['fast_dF'] = fast_dF\n",
    "df_single['dFF_1AP'] = dFF_1AP\n",
    "df_single['dFF_20AP'] = dFF_20AP\n",
    "df_single['tau_off'] = tau_off\n",
    "df_single['ctr_fast_dF'] = ctr_fast_dF\n",
    "df_single['color'] = color\n",
    "\n",
    "df_single = df_single.sort_values(by='fast_dF',ascending=True)\n",
    "\n",
    "df_combo_1AP = pd.read_pickle(sumPath+'/iGluSnFR_screen_combo_1AP.pkl')\n",
    "df_combo_1AP = df_combo_1AP[df_combo_1AP['no_pixels']>1e4]\n",
    "df_combo_1AP = df_combo_1AP[(df_combo_1AP['fast_dF'].notna())&(df_combo_1AP['dFF'].notna())]\n",
    "\n",
    "construct_id = []\n",
    "fast_dF = []\n",
    "dFF_1AP = []\n",
    "dFF_20AP = []\n",
    "tau_off = []\n",
    "ctr_fast_dF = []\n",
    "color = []\n",
    "for c in df_combo_1AP.construct_id.unique():\n",
    "    df_1AP_t = df_combo_1AP[df_combo_1AP['construct_id']==c]\n",
    "    df_20AP_t = df_combo_20AP[df_combo_20AP['construct_id']==c]\n",
    "    construct_id.append(c)\n",
    "    fast_dF.append(df_1AP_t.fast_dF.median())\n",
    "    dFF_1AP.append(df_1AP_t.dFF.median())\n",
    "    dFF_20AP.append(df_20AP_t.dFF.median())\n",
    "    tau_off.append(df_1AP_t.tau_off.median())\n",
    "    ctr_fast_dF.append(df_1AP_t.ctr_fast_dF.median())\n",
    "    if df_1AP_t.construct_id_dot.unique()[0] in df_winner['construct'].unique():\n",
    "        color.append('r')\n",
    "        count.append(c)\n",
    "    else:\n",
    "        color.append('gray')\n",
    "    \n",
    "df_combo= pd.DataFrame()\n",
    "df_combo['construct_id'] = construct_id\n",
    "df_combo['fast_dF'] = fast_dF\n",
    "df_combo['dFF_1AP'] = dFF_1AP\n",
    "df_combo['dFF_20AP'] = dFF_20AP\n",
    "df_combo['tau_off'] = tau_off\n",
    "df_combo['ctr_fast_dF'] = ctr_fast_dF\n",
    "df_combo['color'] = color\n",
    "\n",
    "df_combo = df_combo.sort_values(by='fast_dF',ascending=True)"
   ]
  },
  {
   "cell_type": "code",
   "execution_count": 5,
   "id": "88d8fed6",
   "metadata": {},
   "outputs": [
    {
     "data": {
      "text/html": [
       "<div>\n",
       "<style scoped>\n",
       "    .dataframe tbody tr th:only-of-type {\n",
       "        vertical-align: middle;\n",
       "    }\n",
       "\n",
       "    .dataframe tbody tr th {\n",
       "        vertical-align: top;\n",
       "    }\n",
       "\n",
       "    .dataframe thead th {\n",
       "        text-align: right;\n",
       "    }\n",
       "</style>\n",
       "<table border=\"1\" class=\"dataframe\">\n",
       "  <thead>\n",
       "    <tr style=\"text-align: right;\">\n",
       "      <th></th>\n",
       "      <th>construct_id</th>\n",
       "      <th>fast_dF</th>\n",
       "      <th>dFF_1AP</th>\n",
       "      <th>dFF_20AP</th>\n",
       "      <th>tau_off</th>\n",
       "      <th>ctr_fast_dF</th>\n",
       "      <th>color</th>\n",
       "    </tr>\n",
       "  </thead>\n",
       "  <tbody>\n",
       "    <tr>\n",
       "      <th>698</th>\n",
       "      <td>633.9147</td>\n",
       "      <td>1.553267</td>\n",
       "      <td>1.570733</td>\n",
       "      <td>1.849213</td>\n",
       "      <td>1.720934</td>\n",
       "      <td>9.39412</td>\n",
       "      <td>r</td>\n",
       "    </tr>\n",
       "  </tbody>\n",
       "</table>\n",
       "</div>"
      ],
      "text/plain": [
       "    construct_id   fast_dF   dFF_1AP  dFF_20AP   tau_off  ctr_fast_dF color\n",
       "698     633.9147  1.553267  1.570733  1.849213  1.720934      9.39412     r"
      ]
     },
     "execution_count": 5,
     "metadata": {},
     "output_type": "execute_result"
    }
   ],
   "source": [
    "df_single[df_single['construct_id']=='633.880']\n",
    "df_combo[df_combo['construct_id']=='633.9147']"
   ]
  },
  {
   "cell_type": "code",
   "execution_count": 6,
   "id": "5e3c0ce9",
   "metadata": {},
   "outputs": [],
   "source": [
    "# for i,r in df_single_1AP.iterrows():\n",
    "#     print(r['construct'].split('.')[0].split(' ')[-1])\n",
    "#     if i >20:\n",
    "#         break\n",
    "# df_single_1AP.shape"
   ]
  },
  {
   "cell_type": "code",
   "execution_count": 7,
   "id": "67280c5e",
   "metadata": {},
   "outputs": [],
   "source": [
    "C = []\n",
    "M = []\n",
    "for i,r in df_winner.iterrows():\n",
    "#     print(r['construct'])\n",
    "    df_t = df_single_1AP[df_single_1AP['construct_id_dot']==r['construct']]\n",
    "    if len(df_t)==0:\n",
    "        continue\n",
    "    c = df_t['construct_id_dot'].unique()[0]\n",
    "    C.append(c.replace('dot','.'))\n",
    "    M.append(df_t.construct.unique()[0].split('.')[0].split(' ')[-1])"
   ]
  },
  {
   "cell_type": "code",
   "execution_count": 8,
   "id": "3c49d889",
   "metadata": {},
   "outputs": [],
   "source": [
    "df_ws = pd.DataFrame()\n",
    "df_ws['Winner'] = C\n",
    "df_ws['Mutation'] = M"
   ]
  },
  {
   "cell_type": "code",
   "execution_count": 10,
   "id": "2f5bd747",
   "metadata": {},
   "outputs": [],
   "source": [
    "# df_ws.to_excel('/Users/zhengj10/Desktop/winner_single.xlsx')"
   ]
  },
  {
   "cell_type": "code",
   "execution_count": 11,
   "id": "3523bc40",
   "metadata": {},
   "outputs": [],
   "source": [
    "C = []\n",
    "M = []\n",
    "for i,r in df_winner.iterrows():\n",
    "#     print(r['construct'])\n",
    "    df_t = df_combo_1AP[df_combo_1AP['construct_id_dot']==r['construct']]\n",
    "    if len(df_t)==0:\n",
    "        continue\n",
    "    c = df_t['construct_id_dot'].unique()[0]\n",
    "    C.append(c.replace('dot','.'))\n",
    "    M.append(df_t.construct.unique()[0].split('.')[0][32:])"
   ]
  },
  {
   "cell_type": "code",
   "execution_count": 12,
   "id": "0b319674",
   "metadata": {},
   "outputs": [],
   "source": [
    "df_wc = pd.DataFrame()\n",
    "df_wc['Winner'] = C\n",
    "df_wc['Mutation'] = M"
   ]
  },
  {
   "cell_type": "code",
   "execution_count": 14,
   "id": "6eb189a9",
   "metadata": {},
   "outputs": [],
   "source": [
    "# df_wc.to_excel('/Users/zhengj10/Desktop/230214/winner_combo.xlsx')"
   ]
  },
  {
   "cell_type": "code",
   "execution_count": 15,
   "id": "5af6aa15",
   "metadata": {},
   "outputs": [
    {
     "data": {
      "text/html": [
       "<div>\n",
       "<style scoped>\n",
       "    .dataframe tbody tr th:only-of-type {\n",
       "        vertical-align: middle;\n",
       "    }\n",
       "\n",
       "    .dataframe tbody tr th {\n",
       "        vertical-align: top;\n",
       "    }\n",
       "\n",
       "    .dataframe thead th {\n",
       "        text-align: right;\n",
       "    }\n",
       "</style>\n",
       "<table border=\"1\" class=\"dataframe\">\n",
       "  <thead>\n",
       "    <tr style=\"text-align: right;\">\n",
       "      <th></th>\n",
       "      <th>Winner</th>\n",
       "      <th>Mutation</th>\n",
       "    </tr>\n",
       "  </thead>\n",
       "  <tbody>\n",
       "    <tr>\n",
       "      <th>0</th>\n",
       "      <td>633.7895</td>\n",
       "      <td>Y31Q Q98F N499V</td>\n",
       "    </tr>\n",
       "    <tr>\n",
       "      <th>1</th>\n",
       "      <td>633.8110</td>\n",
       "      <td>Y31Q Q98F K271G Q418S N499L</td>\n",
       "    </tr>\n",
       "    <tr>\n",
       "      <th>2</th>\n",
       "      <td>633.8179</td>\n",
       "      <td>Y31E Q34A Q98F N499V</td>\n",
       "    </tr>\n",
       "    <tr>\n",
       "      <th>3</th>\n",
       "      <td>633.8254</td>\n",
       "      <td>Y31E Q98F T254R Q418S</td>\n",
       "    </tr>\n",
       "    <tr>\n",
       "      <th>4</th>\n",
       "      <td>633.8357</td>\n",
       "      <td>Y31Q Q34A K271G Q418S N499L</td>\n",
       "    </tr>\n",
       "    <tr>\n",
       "      <th>5</th>\n",
       "      <td>633.8360</td>\n",
       "      <td>Y31Q Q34A Q98F K271G Q418S N499L</td>\n",
       "    </tr>\n",
       "    <tr>\n",
       "      <th>6</th>\n",
       "      <td>633.8366</td>\n",
       "      <td>Q34A Q98F N499L</td>\n",
       "    </tr>\n",
       "    <tr>\n",
       "      <th>7</th>\n",
       "      <td>633.8376</td>\n",
       "      <td>Y31E Q34A Q98F K271G N499L</td>\n",
       "    </tr>\n",
       "    <tr>\n",
       "      <th>8</th>\n",
       "      <td>633.8439</td>\n",
       "      <td>T254R K271G Q418S N499L</td>\n",
       "    </tr>\n",
       "    <tr>\n",
       "      <th>9</th>\n",
       "      <td>633.8440</td>\n",
       "      <td>T254R Q418S N499L</td>\n",
       "    </tr>\n",
       "    <tr>\n",
       "      <th>10</th>\n",
       "      <td>633.8626</td>\n",
       "      <td>Y31E T254R H273E Q418S</td>\n",
       "    </tr>\n",
       "    <tr>\n",
       "      <th>11</th>\n",
       "      <td>633.8880</td>\n",
       "      <td>Y31Q Q98F K271F N499V</td>\n",
       "    </tr>\n",
       "    <tr>\n",
       "      <th>12</th>\n",
       "      <td>633.8881</td>\n",
       "      <td>Y31Q A185N K271F N499V</td>\n",
       "    </tr>\n",
       "    <tr>\n",
       "      <th>13</th>\n",
       "      <td>633.8947</td>\n",
       "      <td>Q34A Q98F K271F H273E N499V</td>\n",
       "    </tr>\n",
       "    <tr>\n",
       "      <th>14</th>\n",
       "      <td>633.9064</td>\n",
       "      <td>Q98F T254R K271G H273E Q418S N499V</td>\n",
       "    </tr>\n",
       "    <tr>\n",
       "      <th>15</th>\n",
       "      <td>633.9147</td>\n",
       "      <td>Y31E Q98F K271G N499V</td>\n",
       "    </tr>\n",
       "    <tr>\n",
       "      <th>16</th>\n",
       "      <td>633.9161</td>\n",
       "      <td>Y31E T254R H273E</td>\n",
       "    </tr>\n",
       "    <tr>\n",
       "      <th>17</th>\n",
       "      <td>633.9163</td>\n",
       "      <td>Y31Q Q98F T254R H273E N499L</td>\n",
       "    </tr>\n",
       "    <tr>\n",
       "      <th>18</th>\n",
       "      <td>633.9187</td>\n",
       "      <td>Y31Q T254R K271F Q418S N499L</td>\n",
       "    </tr>\n",
       "    <tr>\n",
       "      <th>19</th>\n",
       "      <td>633.9278</td>\n",
       "      <td>Y31E K271G Q418S N499V</td>\n",
       "    </tr>\n",
       "    <tr>\n",
       "      <th>20</th>\n",
       "      <td>633.9298</td>\n",
       "      <td>Y31Q Q98F T254R K271F H273E Q418S N499V</td>\n",
       "    </tr>\n",
       "    <tr>\n",
       "      <th>21</th>\n",
       "      <td>633.9314</td>\n",
       "      <td>Y31Q Q34A A185N K271G</td>\n",
       "    </tr>\n",
       "    <tr>\n",
       "      <th>22</th>\n",
       "      <td>633.9330</td>\n",
       "      <td>Y31E Q98F A185N T254R K271G H273E Q418S N499L</td>\n",
       "    </tr>\n",
       "    <tr>\n",
       "      <th>23</th>\n",
       "      <td>633.9360</td>\n",
       "      <td>Y31Q Q34A Q98F H273E Q418S N499L</td>\n",
       "    </tr>\n",
       "    <tr>\n",
       "      <th>24</th>\n",
       "      <td>633.9523</td>\n",
       "      <td>Q34A Q98F T254R H273E N499V</td>\n",
       "    </tr>\n",
       "    <tr>\n",
       "      <th>25</th>\n",
       "      <td>633.9527</td>\n",
       "      <td>Y31E Q34A K271F N499V</td>\n",
       "    </tr>\n",
       "    <tr>\n",
       "      <th>26</th>\n",
       "      <td>633.9538</td>\n",
       "      <td>Y31E H273E Q418S N499V</td>\n",
       "    </tr>\n",
       "  </tbody>\n",
       "</table>\n",
       "</div>"
      ],
      "text/plain": [
       "      Winner                                       Mutation\n",
       "0   633.7895                                Y31Q Q98F N499V\n",
       "1   633.8110                    Y31Q Q98F K271G Q418S N499L\n",
       "2   633.8179                           Y31E Q34A Q98F N499V\n",
       "3   633.8254                          Y31E Q98F T254R Q418S\n",
       "4   633.8357                    Y31Q Q34A K271G Q418S N499L\n",
       "5   633.8360               Y31Q Q34A Q98F K271G Q418S N499L\n",
       "6   633.8366                                Q34A Q98F N499L\n",
       "7   633.8376                     Y31E Q34A Q98F K271G N499L\n",
       "8   633.8439                        T254R K271G Q418S N499L\n",
       "9   633.8440                              T254R Q418S N499L\n",
       "10  633.8626                         Y31E T254R H273E Q418S\n",
       "11  633.8880                          Y31Q Q98F K271F N499V\n",
       "12  633.8881                         Y31Q A185N K271F N499V\n",
       "13  633.8947                    Q34A Q98F K271F H273E N499V\n",
       "14  633.9064             Q98F T254R K271G H273E Q418S N499V\n",
       "15  633.9147                          Y31E Q98F K271G N499V\n",
       "16  633.9161                               Y31E T254R H273E\n",
       "17  633.9163                    Y31Q Q98F T254R H273E N499L\n",
       "18  633.9187                   Y31Q T254R K271F Q418S N499L\n",
       "19  633.9278                         Y31E K271G Q418S N499V\n",
       "20  633.9298        Y31Q Q98F T254R K271F H273E Q418S N499V\n",
       "21  633.9314                          Y31Q Q34A A185N K271G\n",
       "22  633.9330  Y31E Q98F A185N T254R K271G H273E Q418S N499L\n",
       "23  633.9360               Y31Q Q34A Q98F H273E Q418S N499L\n",
       "24  633.9523                    Q34A Q98F T254R H273E N499V\n",
       "25  633.9527                          Y31E Q34A K271F N499V\n",
       "26  633.9538                         Y31E H273E Q418S N499V"
      ]
     },
     "execution_count": 15,
     "metadata": {},
     "output_type": "execute_result"
    }
   ],
   "source": [
    "df_wc"
   ]
  },
  {
   "cell_type": "code",
   "execution_count": 16,
   "id": "3e3e76c7",
   "metadata": {},
   "outputs": [
    {
     "data": {
      "text/plain": [
       "(3046, 7)"
      ]
     },
     "execution_count": 16,
     "metadata": {},
     "output_type": "execute_result"
    }
   ],
   "source": [
    "df_all = pd.concat([df_single,df_combo],axis=0)\n",
    "df_all.shape\n",
    "df_all.columns\n",
    "df_combo.shape\n",
    "df_all.shape"
   ]
  },
  {
   "cell_type": "markdown",
   "id": "47e6ca4b",
   "metadata": {},
   "source": [
    "#### Plot"
   ]
  },
  {
   "cell_type": "code",
   "execution_count": 17,
   "id": "721a4dd7",
   "metadata": {},
   "outputs": [
    {
     "name": "stderr",
     "output_type": "stream",
     "text": [
      "/var/folders/87/trl8ql4s7vj6fkdtrrkcwx6s0zb2d2/T/ipykernel_26965/1185696401.py:40: UserWarning: This figure includes Axes that are not compatible with tight_layout, so results might be incorrect.\n",
      "  plt.tight_layout(h_pad=-0.2)\n"
     ]
    },
    {
     "data": {
      "image/png": "[encoded data removed]",
      "text/plain": [
       "<Figure size 648x216 with 5 Axes>"
      ]
     },
     "metadata": {
      "needs_background": "light"
     },
     "output_type": "display_data"
    }
   ],
   "source": [
    "import matplotlib as mpl\n",
    "plt.rc('font',size=13)\n",
    "x = np.arange(df_all.shape[0])\n",
    "f,(ax1,ax2,ax3,ax4) = plt.subplots(4,1,gridspec_kw={'height_ratios':[5,0.5,0.5,0.5]},figsize=(9,3))\n",
    "\n",
    "bar = ax1.bar(x,df_all['fast_dF'],width=1,color=df_all['color'],alpha=0.75)\n",
    "ax1.hlines(1,-10,df_all.shape[0]+10,color='k',alpha=0.5,lw=0.75)\n",
    "ax1.axis('off')\n",
    "ax1.set_ylim([-0.1,5])\n",
    "ax1.set_xlim([-1,3027])\n",
    "ax1.set_xlabel('construct_no',size=14,color='w')\n",
    "\n",
    "my_cmap = plt.get_cmap(\"jet\")\n",
    "rescale = lambda y:(y-0.0073139104656749)/(5.654111015686038*0.5)\n",
    "\n",
    "ax2.bar(x,1,width=1,color=my_cmap(rescale(df_all['dFF_1AP'])))\n",
    "ax2.axis('off')\n",
    "ax2.set_xlim([-1,3027])\n",
    "\n",
    "ax3.bar(x,1,width=1,color=my_cmap(rescale(df_all['dFF_20AP'])))\n",
    "ax3.axis('off')\n",
    "ax3.set_xlim([-1,3027])\n",
    "\n",
    "\n",
    "ax4.axis('off')\n",
    "N = len(df_all)\n",
    "cmap = plt.get_cmap('jet', N)\n",
    "norm = mpl.colors.Normalize(vmin=0, vmax=5.654111015686038*0.5)\n",
    "  \n",
    "# creating ScalarMappable\n",
    "sm = plt.cm.ScalarMappable(cmap=cmap, norm=norm)\n",
    "sm.set_array([])\n",
    "\n",
    "from mpl_toolkits.axes_grid1.inset_locator import inset_axes\n",
    "axins = inset_axes(ax4, width=\"10%\", height=\"25%\", loc='upper left')\n",
    "\n",
    "cbar = plt.colorbar(sm,cax=axins, ticks=np.linspace(0,2.8,3),orientation='horizontal')\n",
    "# cbar.ax.set_ylabel('Norm. dFF',size=14,rotation=0)\n",
    "\n",
    "plt.tight_layout(h_pad=-0.2)\n",
    "# plt.savefig('/Users/zhengj10/Desktop/230207/screening_progress.pdf',format='pdf')\n",
    "# plt.savefig('/Users/zhengj10/Desktop/230214/screening_progress.svg',format='svg')\n",
    "plt.show()"
   ]
  },
  {
   "cell_type": "code",
   "execution_count": 18,
   "id": "18607a88",
   "metadata": {},
   "outputs": [
    {
     "data": {
      "image/png": "[encoded data removed]",
      "text/plain": [
       "<Figure size 648x504 with 1 Axes>"
      ]
     },
     "metadata": {
      "needs_background": "light"
     },
     "output_type": "display_data"
    }
   ],
   "source": [
    "plt.figure(figsize=(9,7))\n",
    "plt.rc('font',size=13)\n",
    "ax = plt.subplot(111)\n",
    "single = ax.scatter(df_single['fast_dF'],df_single['tau_off'],c='blue',alpha=0.35,s=75,label='Single mutations')\n",
    "combo = ax.scatter(df_combo['fast_dF'],df_combo['tau_off'],c='red',alpha=0.35,s=75,\n",
    "                  label='Combinatorial mutations')\n",
    "ax.set_xlabel('Norm. fast \\u0394F (1AP)',size=14)\n",
    "# ax.set_ylabel('Norm. \\u03C4 off (1AP)',size=14)\n",
    "ax.set_ylabel('Norm. tau off (1AP)',size=14)\n",
    "leg = plt.legend(loc='upper left',frameon=False)\n",
    "plt.tight_layout()\n",
    "# plt.savefig('/Users/zhengj10/Desktop/230207/scatter.pdf',format='pdf')\n",
    "# plt.savefig('/Users/zhengj10/Desktop/230214/scatter.svg',format='svg')\n",
    "plt.show()"
   ]
  },
  {
   "cell_type": "markdown",
   "id": "6c2fa607",
   "metadata": {},
   "source": [
    "#### Merge 1AP and 20 AP such that each 1AP data has corresponding 20AP data"
   ]
  },
  {
   "cell_type": "code",
   "execution_count": 19,
   "id": "dc919d10",
   "metadata": {},
   "outputs": [],
   "source": [
    "df_c_1 = pd.DataFrame()\n",
    "df_c_20 = pd.DataFrame()\n",
    "for c in df_combo_1AP.construct.unique():\n",
    "    df_t_1 = df_combo_1AP[df_combo_1AP['construct']==c]\n",
    "    df_t_20 = df_combo_20AP[df_combo_20AP['construct']==c]\n",
    "    df_c_1 = pd.concat([df_c_1,df_t_1],axis=0)\n",
    "    df_c_20 = pd.concat([df_c_20,df_t_20],axis=0)\n",
    "    \n",
    "df_s_1 = pd.DataFrame()\n",
    "df_s_20 = pd.DataFrame()\n",
    "for c in df_single_1AP.construct.unique():\n",
    "    df_t_1 = df_single_1AP[df_single_1AP['construct']==c]\n",
    "    df_t_20 = df_single_20AP[df_single_20AP['construct']==c]\n",
    "    df_s_1 = pd.concat([df_s_1,df_t_1],axis=0)\n",
    "    df_s_20 = pd.concat([df_s_20,df_t_20],axis=0)"
   ]
  },
  {
   "cell_type": "code",
   "execution_count": 20,
   "id": "0d08e361",
   "metadata": {},
   "outputs": [],
   "source": [
    "df_combo = pd.concat([df_c_1,df_c_20],axis=1)\n",
    "df_single = pd.concat([df_s_1,df_s_20],axis=1)"
   ]
  },
  {
   "cell_type": "markdown",
   "id": "f2fd63d2",
   "metadata": {},
   "source": [
    "#### Rename columns to distuiguish 1AP and 20AP data"
   ]
  },
  {
   "cell_type": "code",
   "execution_count": null,
   "id": "cbeafdcc",
   "metadata": {},
   "outputs": [],
   "source": []
  },
  {
   "cell_type": "code",
   "execution_count": 23,
   "id": "36d6b722",
   "metadata": {},
   "outputs": [],
   "source": [
    "# df_combo.columns = ['date/plate', 'construct', 'no_pixels', 'thre', 'ctr_no_pixels', 'SNR',\n",
    "#        'dFF', 'fast_dF', 'fast_dFF', 'F0', 'tau_on', 'tau_off',\n",
    "#        'dFF_Tau_on_ratio', 'SNR_unnorm', 'dFF_unnorm', 'fast_dFF_unnorm',\n",
    "#        'F0_unnorm', 'tau_on_unnorm', 'tau_off_unnorm', 'ctr_SNR', 'ctr_dFF',\n",
    "#        'ctr_fast_dF', 'ctr_fast_dFF', 'ctr_F0', 'ctr_tau_on', 'ctr_tau_off',\n",
    "#        'ctr_dFF_Tau_on_ratio', 'construct_id', 'date/plate_20AP', 'construct_20AP',\n",
    "#        'no_pixels_20AP', 'thre', 'ctr_no_pixels', 'SNR', 'dFF_20AP', 'fast_dF_20AP',\n",
    "#        'fast_dFF', 'F0_20AP', 'tau_on', 'tau_off', 'dFF_Tau_on_ratio', 'SNR_unnorm',\n",
    "#        'dFF_unnorm', 'fast_dFF_unnorm', 'F0_unnorm', 'tau_on_unnorm',\n",
    "#        'tau_off_unnorm', 'ctr_SNR', 'ctr_dFF', 'ctr_fast_dF', 'ctr_fast_dFF',\n",
    "#        'ctr_F0', 'ctr_tau_on', 'ctr_tau_off', 'ctr_dFF_Tau_on_ratio',\n",
    "#        'construct_id_20AP']\n",
    "\n",
    "# df_single.columns = ['date/plate', 'construct', 'no_pixels', 'thre', 'ctr_no_pixels', 'SNR',\n",
    "#        'dFF', 'fast_dF', 'fast_dFF', 'F0', 'tau_on', 'tau_off',\n",
    "#        'dFF_Tau_on_ratio', 'SNR_unnorm', 'dFF_unnorm', 'fast_dFF_unnorm',\n",
    "#        'F0_unnorm', 'tau_on_unnorm', 'tau_off_unnorm', 'ctr_SNR', 'ctr_dFF',\n",
    "#        'ctr_fast_dF', 'ctr_fast_dFF', 'ctr_F0', 'ctr_tau_on', 'ctr_tau_off',\n",
    "#        'ctr_dFF_Tau_on_ratio', 'construct_id', 'date/plate_20AP', 'construct_20AP',\n",
    "#        'no_pixels_20AP', 'thre', 'ctr_no_pixels', 'SNR', 'dFF_20AP', 'fast_dF_20AP',\n",
    "#        'fast_dFF', 'F0_20AP', 'tau_on', 'tau_off', 'dFF_Tau_on_ratio', 'SNR_unnorm',\n",
    "#        'dFF_unnorm', 'fast_dFF_unnorm', 'F0_unnorm', 'tau_on_unnorm',\n",
    "#        'tau_off_unnorm', 'ctr_SNR', 'ctr_dFF', 'ctr_fast_dF', 'ctr_fast_dFF',\n",
    "#        'ctr_F0', 'ctr_tau_on', 'ctr_tau_off', 'ctr_dFF_Tau_on_ratio',\n",
    "#        'construct_id_20AP']"
   ]
  },
  {
   "cell_type": "markdown",
   "id": "7f8d507f",
   "metadata": {},
   "source": [
    "#### Confirm each row is the 1AP and 20AP data from same construct & well"
   ]
  },
  {
   "cell_type": "code",
   "execution_count": 25,
   "id": "4c051dec",
   "metadata": {},
   "outputs": [],
   "source": [
    "# for i,r in df_combo.iterrows():\n",
    "#     if r['construct']!=r['construct_20AP']:\n",
    "#         print(i,r['construct'],r['construct_20AP'])\n",
    "# for i,r in df_single.iterrows():\n",
    "#     if r['construct']!=r['construct_20AP']:\n",
    "#         print(i,r['construct'],r['construct_20AP'])"
   ]
  },
  {
   "cell_type": "code",
   "execution_count": 26,
   "id": "7b2bf9be",
   "metadata": {},
   "outputs": [],
   "source": [
    "param = 'dFF'\n",
    "# param = 'fast_dF'\n",
    "# param = 'fast_dFF'\n",
    "# param = 'dFF_tau_on_ratio'\n",
    "# param = 'tau_on'"
   ]
  },
  {
   "cell_type": "code",
   "execution_count": 27,
   "id": "87a81c91",
   "metadata": {},
   "outputs": [
    {
     "data": {
      "text/plain": [
       "(1473, 54)"
      ]
     },
     "execution_count": 27,
     "metadata": {},
     "output_type": "execute_result"
    }
   ],
   "source": [
    "df_combo.shape"
   ]
  },
  {
   "cell_type": "markdown",
   "id": "0853f5b8",
   "metadata": {},
   "source": [
    "#### Exclude NA values from plotted parameters only (instead of using df.dropna())"
   ]
  },
  {
   "cell_type": "code",
   "execution_count": 29,
   "id": "072800c6",
   "metadata": {},
   "outputs": [],
   "source": [
    "# df_combo = df_combo[df_combo['no_pixels']>1e4]\n",
    "# df_combo = df_combo[(df_combo['fast_dF'].notna())&(df_combo['dFF_20AP'].notna())&(df_combo['F0'].notna())]\n",
    "# df_combo = df_combo.sort_values(by=param,ascending=False)\n",
    "\n",
    "# df_single = df_single[df_single['no_pixels']>1e4]\n",
    "# df_single = df_single[(df_single['fast_dF'].notna())&(df_single['dFF_20AP'].notna())&(df_single['F0'].notna())]\n",
    "# df_single = df_single.sort_values(by=param,ascending=False)"
   ]
  },
  {
   "cell_type": "code",
   "execution_count": null,
   "id": "f14d2bba",
   "metadata": {},
   "outputs": [],
   "source": [
    "# df_single[df_single['construct'].str.contains('6428')]\n",
    "# df_combo[df_combo['construct'].str.contains('9139')]\n",
    "# df_combo.loc[10251,'construct']"
   ]
  },
  {
   "cell_type": "markdown",
   "id": "f631f5ba",
   "metadata": {},
   "source": [
    "#### Kerr plot (fast dF_1AP vs. dFF_20AP)"
   ]
  },
  {
   "cell_type": "code",
   "execution_count": null,
   "id": "503c50a6",
   "metadata": {},
   "outputs": [],
   "source": [
    "sns.set_style(style='whitegrid')\n",
    "fig = plt.figure(figsize=(13,7.5))\n",
    "plt.rc('font', size=13)\n",
    "ax = plt.subplot(111)\n",
    "\n",
    "scale = 20 # for combo mutants\n",
    "all_sensors = plt.scatter(df_combo[param],df_combo['dFF_20AP'],c=df_combo['no_pixels'],s=df_combo['F0']*scale,\n",
    "                          cmap=\"jet\")\n",
    "\n",
    "all_sensors = plt.scatter(df_single[param],df_single['dFF_20AP'],c=df_single['no_pixels'],s=df_single['F0']*scale,\n",
    "                          marker='x',cmap=\"jet\")\n",
    "plt.clim(a,b)\n",
    "cbar = plt.colorbar(all_sensors,aspect=50)\n",
    "cbar.ax.set_ylabel('No. pixels',rotation=90,size=14)\n",
    "\n",
    "plt.legend(*all_sensors.legend_elements(\"sizes\", num = 5,func = lambda x: x/scale),title='Norm. F0')\n",
    "ax.set_xlabel('Norm. fast \\u0394F (1AP)',size=14)\n",
    "ax.set_ylabel('Norm. \\u0394F/F0 (20AP)',size=14)\n",
    "\n",
    "\n",
    "plt.tight_layout()\n",
    "savePath = '/Volumes/genie/Presentations/Jihong/GENIE production/230117/iGluSnFR_screening'\n",
    "if not os.path.exists(savePath):\n",
    "    os.makedirs(savePath)\n",
    "# plt.savefig(savePath+'/Kerr_all_%s.svg', %paramformat='svg')\n",
    "# plt.savefig('/Users/zhengj10/Desktop/20AP.pdf',format='pdf')\n",
    "plt.show()"
   ]
  },
  {
   "cell_type": "code",
   "execution_count": null,
   "id": "b1acfcc0",
   "metadata": {},
   "outputs": [],
   "source": [
    "a = np.quantile(df_single['no_pixels'],0.1)\n",
    "b = np.quantile(df_combo['no_pixels'],0.9)\n",
    "ax.get_xlim()"
   ]
  },
  {
   "cell_type": "markdown",
   "id": "c42e66f9",
   "metadata": {},
   "source": [
    "#### Kerr plot zoomed for top hits (fast dF_1AP vs. dFF_20AP)"
   ]
  },
  {
   "cell_type": "code",
   "execution_count": null,
   "id": "375eb9da",
   "metadata": {},
   "outputs": [],
   "source": [
    "sns.set_style(style='whitegrid')\n",
    "fig = plt.figure(figsize=(13,7.5))\n",
    "plt.rc('font', size=13)\n",
    "ax = plt.subplot(111)\n",
    "\n",
    "scale = 20 # for combo mutants\n",
    "df_combo = df_combo[df_combo['fast_dF']<6]\n",
    "all_sensors = plt.scatter(df_combo[param],df_combo['dFF_20AP'],c=df_combo['no_pixels'],s=df_combo['F0']*scale,\n",
    "                          cmap=\"jet\")\n",
    "\n",
    "all_sensors = plt.scatter(df_single[param],df_single['dFF_20AP'],c=df_single['no_pixels'],s=df_single['F0']*scale,\n",
    "                          marker='x',cmap=\"jet\")\n",
    "\n",
    "plt.clim(a,b)\n",
    "cbar = plt.colorbar(all_sensors,aspect=50)\n",
    "cbar.ax.set_ylabel('No. pixels',rotation=90,size=14)\n",
    "plt.legend(*all_sensors.legend_elements(\"sizes\", num = 5,func = lambda x: x/scale),title='Norm. F0')\n",
    "\n",
    "ax.set_xlabel('Norm. fast \\u0394F (1AP)',size=14)\n",
    "ax.set_ylabel('Norm. \\u0394F/F0 (20AP)',size=14)\n",
    "\n",
    "ax.set_xlim([2.9, 6])\n",
    "\n",
    "construct_l = df_combo.construct.to_list()\n",
    "dFF_l = df_combo['dFF_20AP'].to_list()\n",
    "fast_dF_l = df_combo.fast_dF.to_list()\n",
    "\n",
    "top_hits_full = []\n",
    "top_hits = []\n",
    "\n",
    "text_height = (ax.get_ylim()[0]+ax.get_ylim()[1])/40\n",
    "for i,construct in enumerate(construct_l):\n",
    "    \n",
    "    \n",
    "    if fast_dF_l[i]>3:\n",
    "        if ';' in construct:\n",
    "            if construct.split(';')[0][-5]=='.':\n",
    "                ax.text(fast_dF_l[i],dFF_l[i]+text_height, \"%s\" %construct.split(';')[0][-8:], ha=\"center\",size=12)\n",
    "                top_hits.append(construct.split(';')[0][-8:])\n",
    "                top_hits_full.append(construct)\n",
    "            else:\n",
    "                ax.text(fast_dF_l[i],dFF_l[i]+text_height, \"%s\" %construct.split(';')[0][-7:], ha=\"center\",size=12)\n",
    "                top_hits.append(construct.split(';')[0][-7:])\n",
    "                top_hits_full.append(construct)\n",
    "\n",
    "        elif construct[-5]=='.':\n",
    "            ax.text(fast_dF_l[i],dFF_l[i]+text_height, \"%s\" %construct[-8:], ha=\"center\",size=12)\n",
    "            top_hits.append(construct[-8:])\n",
    "            top_hits_full.append(construct)\n",
    "\n",
    "        else:\n",
    "            ax.text(fast_dF_l[i],dFF_l[i]+text_height, \"%s\" %construct[-7:], ha=\"center\",size=12)\n",
    "            top_hits.append(construct[-7:])\n",
    "            top_hits_full.append(construct)\n",
    "            \n",
    "construct_l = df_single.construct.to_list()\n",
    "dFF_l = df_single['dFF_20AP'].to_list()\n",
    "fast_dF_l = df_single.fast_dF.to_list()\n",
    "\n",
    "top_hits_full = []\n",
    "top_hits = []\n",
    "\n",
    "text_height = (ax.get_ylim()[0]+ax.get_ylim()[1])/40\n",
    "for i,construct in enumerate(construct_l):\n",
    "    if '9187' in construct_l[i]:\n",
    "        ax.text(fast_dF_l[i],dFF_l[i]+text_height, \"%s\" %construct.split(';')[0][-7:], ha=\"center\",size=15,color='r')\n",
    "        print('haha')\n",
    "    if fast_dF_l[i]>3 and fast_dF_l[i]<6:\n",
    "        if ';' in construct:\n",
    "            if construct.split(';')[0][-5]=='.':\n",
    "                ax.text(fast_dF_l[i],dFF_l[i]+text_height, \"%s\" %construct.split(';')[0][-8:], ha=\"center\",size=12)\n",
    "                top_hits.append(construct.split(';')[0][-8:])\n",
    "                top_hits_full.append(construct)\n",
    "            else:\n",
    "                ax.text(fast_dF_l[i],dFF_l[i]+text_height, \"%s\" %construct.split(';')[0][-7:], ha=\"center\",size=12)\n",
    "                top_hits.append(construct.split(';')[0][-7:])\n",
    "                top_hits_full.append(construct)\n",
    "\n",
    "        elif construct[-5]=='.':\n",
    "            ax.text(fast_dF_l[i],dFF_l[i]+text_height, \"%s\" %construct[-8:], ha=\"center\",size=12)\n",
    "            top_hits.append(construct[-8:])\n",
    "            top_hits_full.append(construct)\n",
    "\n",
    "        else:\n",
    "            ax.text(fast_dF_l[i],dFF_l[i]+text_height, \"%s\" %construct[-7:], ha=\"center\",size=12)\n",
    "            top_hits.append(construct[-7:])\n",
    "            top_hits_full.append(construct)\n",
    "\n",
    "plt.tight_layout()\n",
    "savePath = '/Volumes/genie/Presentations/Jihong/GENIE production/230117/iGluSnFR_screening'\n",
    "if not os.path.exists(savePath):\n",
    "    os.makedirs(savePath)\n",
    "# plt.savefig(savePath+'/Kerr_all_zoom.svg',format='svg')\n",
    "# plt.savefig('/Users/zhengj10/Desktop/20AP.pdf',format='pdf')\n",
    "plt.show()\n"
   ]
  },
  {
   "cell_type": "code",
   "execution_count": null,
   "id": "9b9e93cf",
   "metadata": {},
   "outputs": [],
   "source": [
    "top_hits"
   ]
  },
  {
   "cell_type": "code",
   "execution_count": null,
   "id": "9b368190",
   "metadata": {},
   "outputs": [],
   "source": [
    "# df_single.to_excel(sumPath+'/single_1AP.xlsx')\n",
    "# df_combo.to_excel(sumPath+'/combo_1AP.xlsx')"
   ]
  },
  {
   "cell_type": "markdown",
   "id": "35d5a595",
   "metadata": {},
   "source": [
    "#### dFF traces of top hits"
   ]
  },
  {
   "cell_type": "code",
   "execution_count": 30,
   "id": "5266e126",
   "metadata": {},
   "outputs": [],
   "source": [
    "# top_hits = ['633dot4515',\n",
    "# '633dot4484',\n",
    "# '633dot3486',\n",
    "# '633dot4147',\n",
    "# '633dot233',\n",
    "# '633dot2043',\n",
    "# '633dot2653',\n",
    "# '633dot2698',\n",
    "# '633dot2185',\n",
    "# '633dot5800',\n",
    "# '633dot6412',\n",
    "# '633dot6391']\n",
    "\n",
    "# top_hits = ['633dot233']\n",
    "\n",
    "top_hits = ['633dot8663','633dot8802','633dot9103','633dot9167','633dot8902','633dot9075']"
   ]
  },
  {
   "cell_type": "code",
   "execution_count": 31,
   "id": "0b4417d1",
   "metadata": {},
   "outputs": [],
   "source": [
    "dataPath = '/Volumes/genie/BenArthur/GETI-screen/kaspars-method-v2'"
   ]
  },
  {
   "cell_type": "code",
   "execution_count": 32,
   "id": "c0ec307c",
   "metadata": {},
   "outputs": [
    {
     "ename": "AttributeError",
     "evalue": "'DataFrame' object has no attribute 'str'",
     "output_type": "error",
     "traceback": [
      "\u001b[0;31m---------------------------------------------------------------------------\u001b[0m",
      "\u001b[0;31mAttributeError\u001b[0m                            Traceback (most recent call last)",
      "\u001b[0;32m/var/folders/87/trl8ql4s7vj6fkdtrrkcwx6s0zb2d2/T/ipykernel_26965/2579180293.py\u001b[0m in \u001b[0;36m<module>\u001b[0;34m\u001b[0m\n\u001b[1;32m      9\u001b[0m \u001b[0;31m# bad_plates = []\u001b[0m\u001b[0;34m\u001b[0m\u001b[0;34m\u001b[0m\u001b[0m\n\u001b[1;32m     10\u001b[0m \u001b[0;32mfor\u001b[0m \u001b[0mc\u001b[0m \u001b[0;32min\u001b[0m \u001b[0mtop_hits\u001b[0m\u001b[0;34m[\u001b[0m\u001b[0;34m:\u001b[0m\u001b[0;36m12\u001b[0m\u001b[0;34m]\u001b[0m\u001b[0;34m:\u001b[0m\u001b[0;34m\u001b[0m\u001b[0;34m\u001b[0m\u001b[0m\n\u001b[0;32m---> 11\u001b[0;31m     \u001b[0mdf_sel\u001b[0m \u001b[0;34m=\u001b[0m \u001b[0mdf_single\u001b[0m\u001b[0;34m[\u001b[0m\u001b[0mdf_single\u001b[0m\u001b[0;34m.\u001b[0m\u001b[0mconstruct\u001b[0m\u001b[0;34m.\u001b[0m\u001b[0mstr\u001b[0m\u001b[0;34m.\u001b[0m\u001b[0mcontains\u001b[0m\u001b[0;34m(\u001b[0m\u001b[0mc\u001b[0m\u001b[0;34m.\u001b[0m\u001b[0mreplace\u001b[0m\u001b[0;34m(\u001b[0m\u001b[0;34m'dot'\u001b[0m\u001b[0;34m,\u001b[0m\u001b[0;34m'.'\u001b[0m\u001b[0;34m)\u001b[0m\u001b[0;34m)\u001b[0m\u001b[0;34m]\u001b[0m\u001b[0;34m\u001b[0m\u001b[0;34m\u001b[0m\u001b[0m\n\u001b[0m\u001b[1;32m     12\u001b[0m \u001b[0;31m#     df_sel = df_combo[df_combo.construct.str.contains(c.replace('dot','.'))]\u001b[0m\u001b[0;34m\u001b[0m\u001b[0;34m\u001b[0m\u001b[0m\n\u001b[1;32m     13\u001b[0m     \u001b[0mmatFiles\u001b[0m \u001b[0;34m=\u001b[0m \u001b[0;34m[\u001b[0m\u001b[0;34m]\u001b[0m\u001b[0;34m\u001b[0m\u001b[0;34m\u001b[0m\u001b[0m\n",
      "\u001b[0;32m~/opt/anaconda3/lib/python3.9/site-packages/pandas/core/generic.py\u001b[0m in \u001b[0;36m__getattr__\u001b[0;34m(self, name)\u001b[0m\n\u001b[1;32m   5573\u001b[0m         ):\n\u001b[1;32m   5574\u001b[0m             \u001b[0;32mreturn\u001b[0m \u001b[0mself\u001b[0m\u001b[0;34m[\u001b[0m\u001b[0mname\u001b[0m\u001b[0;34m]\u001b[0m\u001b[0;34m\u001b[0m\u001b[0;34m\u001b[0m\u001b[0m\n\u001b[0;32m-> 5575\u001b[0;31m         \u001b[0;32mreturn\u001b[0m \u001b[0mobject\u001b[0m\u001b[0;34m.\u001b[0m\u001b[0m__getattribute__\u001b[0m\u001b[0;34m(\u001b[0m\u001b[0mself\u001b[0m\u001b[0;34m,\u001b[0m \u001b[0mname\u001b[0m\u001b[0;34m)\u001b[0m\u001b[0;34m\u001b[0m\u001b[0;34m\u001b[0m\u001b[0m\n\u001b[0m\u001b[1;32m   5576\u001b[0m \u001b[0;34m\u001b[0m\u001b[0m\n\u001b[1;32m   5577\u001b[0m     \u001b[0;32mdef\u001b[0m \u001b[0m__setattr__\u001b[0m\u001b[0;34m(\u001b[0m\u001b[0mself\u001b[0m\u001b[0;34m,\u001b[0m \u001b[0mname\u001b[0m\u001b[0;34m:\u001b[0m \u001b[0mstr\u001b[0m\u001b[0;34m,\u001b[0m \u001b[0mvalue\u001b[0m\u001b[0;34m)\u001b[0m \u001b[0;34m->\u001b[0m \u001b[0;32mNone\u001b[0m\u001b[0;34m:\u001b[0m\u001b[0;34m\u001b[0m\u001b[0;34m\u001b[0m\u001b[0m\n",
      "\u001b[0;31mAttributeError\u001b[0m: 'DataFrame' object has no attribute 'str'"
     ]
    },
    {
     "data": {
      "text/plain": [
       "<Figure size 936x360 with 0 Axes>"
      ]
     },
     "metadata": {},
     "output_type": "display_data"
    }
   ],
   "source": [
    "plt.figure(figsize=[13,5])\n",
    "plt.rc('font', size=13)\n",
    "sp = 1\n",
    "stim = '1AP'\n",
    "ctr = '556dot857'\n",
    "bad_plates = [ '20211018_iGluSnFR/P03a-20211004_iGluSnFR',\n",
    " '20220316_iGluSnFR/P02a-20220228_iGluSnFR',\n",
    " '20211018_iGluSnFR/P03a-20211004_iGluSnFR']\n",
    "# bad_plates = []\n",
    "for c in top_hits[:12]:\n",
    "    df_sel = df_single[df_single.construct.str.contains(c.replace('dot','.'))]\n",
    "#     df_sel = df_combo[df_combo.construct.str.contains(c.replace('dot','.'))]\n",
    "    matFiles = []\n",
    "    dFF_ctr = []\n",
    "    dFF_mutant = []\n",
    "    for d in df_sel['date/plate'].unique():\n",
    "        if d in bad_plates:\n",
    "            print(d)\n",
    "            continue\n",
    "\n",
    "        date = d[:17]\n",
    "        plate = d[18:]\n",
    "        matFiles = glob(os.path.join(dataPath,date,plate,c.replace('.','dot'))+'/*%s.mat' %stim)\n",
    "        matFiles_ctr = glob(os.path.join(dataPath,date,plate,'556dot857')+'/*%s.mat' %stim)\n",
    "        matFiles_mutant = [m for m in matFiles if c.replace('.','dot') in m and stim in m]\n",
    "        for f in matFiles_ctr:\n",
    "            matData = h5py.File(f,'r')\n",
    "            dFF_trace = matData['responsive_traces']['fit']['bleach_bkg_norm_ave_trace'][()]\n",
    "            if dFF_trace.shape[0]!=540:\n",
    "                continue\n",
    "            dFF_ctr.append(dFF_trace)\n",
    "        if len(dFF_ctr)==0:\n",
    "            print(d)\n",
    "            continue\n",
    "            \n",
    "        for f in matFiles_mutant:\n",
    "            matData = h5py.File(f,'r')\n",
    "            dFF_trace = matData['responsive_traces']['fit']['bleach_bkg_norm_ave_trace'][()]\n",
    "            if dFF_trace.shape[0]!=540:\n",
    "                continue\n",
    "            dFF_mutant.append(dFF_trace)\n",
    "        if len(dFF_mutant)==0:\n",
    "            print(d)\n",
    "            continue\n",
    "            \n",
    "    mean = np.nanmean(dFF_ctr,axis=0)\n",
    "    err = np.nanstd(dFF_ctr,axis=0)/np.sqrt(len(dFF_ctr))\n",
    "    mean = mean[100:300]\n",
    "    err = err[100:300]\n",
    "    \n",
    "    x = np.arange(mean.shape[0])/181.4815\n",
    "    x = x[:200]\n",
    "\n",
    "    ax = plt.subplot(2,6,sp)\n",
    "    ax.plot(x,mean,color='k',alpha=0.5)\n",
    "    ax.fill_between(x,mean+err,mean-err,color='k',alpha=0.25)\n",
    "    \n",
    "    mean = np.nanmean(dFF_mutant,axis=0)\n",
    "    err = np.nanstd(dFF_mutant,axis=0)/np.sqrt(len(dFF_mutant))\n",
    "    mean = mean[100:300]\n",
    "    err = err[100:300]\n",
    "    \n",
    "    ax.plot(x,mean,color='r',alpha=0.5)\n",
    "    ax.fill_between(x,mean+err,mean-err,color='r',alpha=0.25)\n",
    "    ax.set_title(c.replace('dot','.'))\n",
    "    if sp in [1,7]:\n",
    "        ax.set_ylabel('\\u0394F/F0',size=13)\n",
    "    if sp>6:\n",
    "        ax.set_xlabel('s',size=13)\n",
    "    sp+=1\n",
    "plt.tight_layout()\n",
    "# plt.savefig(savePath+'/dFF_traces_single_%s_%s.svg' %(param,stim),format='svg')\n",
    "# plt.savefig(savePath+'/dFF_traces_combo_top_hits_low_dFF_%s.svg' %stim,format='svg')\n",
    "plt.show()"
   ]
  },
  {
   "cell_type": "code",
   "execution_count": 33,
   "id": "c63e333d",
   "metadata": {},
   "outputs": [
    {
     "data": {
      "text/plain": [
       "Index(['date/plate', 'construct', 'no_pixels', 'thre', 'ctr_no_pixels', 'dFF',\n",
       "       'fast_dF', 'fast_dFF', 'F0', 'tau_on', 'tau_off', 'dFF_Tau_on_ratio',\n",
       "       'dFF_unnorm', 'fast_dF_unnorm', 'fast_dFF_unnorm', 'F0_unnorm',\n",
       "       'tau_on_unnorm', 'tau_off_unnorm', 'ctr_dFF', 'ctr_fast_dF',\n",
       "       'ctr_fast_dFF', 'ctr_F0', 'ctr_tau_on', 'ctr_tau_off',\n",
       "       'ctr_dFF_Tau_on_ratio', 'construct_id', 'construct_id_dot',\n",
       "       'date/plate', 'construct', 'no_pixels', 'thre', 'ctr_no_pixels', 'dFF',\n",
       "       'fast_dF', 'fast_dFF', 'F0', 'tau_on', 'tau_off', 'dFF_Tau_on_ratio',\n",
       "       'dFF_unnorm', 'fast_dF_unnorm', 'fast_dFF_unnorm', 'F0_unnorm',\n",
       "       'tau_on_unnorm', 'tau_off_unnorm', 'ctr_dFF', 'ctr_fast_dF',\n",
       "       'ctr_fast_dFF', 'ctr_F0', 'ctr_tau_on', 'ctr_tau_off',\n",
       "       'ctr_dFF_Tau_on_ratio', 'construct_id', 'construct_id_dot'],\n",
       "      dtype='object')"
      ]
     },
     "execution_count": 33,
     "metadata": {},
     "output_type": "execute_result"
    }
   ],
   "source": [
    "df_single.columns"
   ]
  },
  {
   "cell_type": "code",
   "execution_count": null,
   "id": "ac3b4274",
   "metadata": {},
   "outputs": [],
   "source": [
    "C = []\n",
    "for i,r in df_single[df_single['dFF']>3].iterrows():\n",
    "    top_hits.append(r['construct_id'].split(';')[0])"
   ]
  },
  {
   "cell_type": "code",
   "execution_count": null,
   "id": "4ee5548a",
   "metadata": {},
   "outputs": [],
   "source": [
    "top_hits"
   ]
  },
  {
   "cell_type": "code",
   "execution_count": null,
   "id": "1881d998",
   "metadata": {},
   "outputs": [],
   "source": [
    "# matFiles\n",
    "# dFF_trace.shape\n",
    "matFiles_ctr\n",
    "# matFiles_mutant\n",
    "# dFF_mutant"
   ]
  },
  {
   "cell_type": "code",
   "execution_count": null,
   "id": "06850598",
   "metadata": {},
   "outputs": [],
   "source": []
  },
  {
   "cell_type": "code",
   "execution_count": null,
   "id": "7ade4bb2",
   "metadata": {},
   "outputs": [],
   "source": [
    "dFF_trace"
   ]
  },
  {
   "cell_type": "code",
   "execution_count": null,
   "id": "b95d42bd",
   "metadata": {},
   "outputs": [],
   "source": [
    "# d\n",
    "# mean\n",
    "# df_sel\n",
    "c = '633dot9139'\n",
    "# 6428, 9187, 9139\n",
    "df_combo[df_combo.construct.str.contains(c.replace('dot','.'))]\n",
    "# df_single_1AP[df_single_1AP.construct.str.contains(c.replace('dot','.'))]"
   ]
  },
  {
   "cell_type": "markdown",
   "id": "befd0c0c",
   "metadata": {},
   "source": [
    "#### Check individual dFF traces and remove plates with bad in-plate control"
   ]
  },
  {
   "cell_type": "code",
   "execution_count": null,
   "id": "34dc3ddf",
   "metadata": {},
   "outputs": [],
   "source": [
    "plt.figure(figsize=[13,5])\n",
    "plt.rc('font', size=13)\n",
    "sp = 1\n",
    "stim = '1AP'\n",
    "ctr = '556dot857'\n",
    "c = '633dot4147'\n",
    "df_sel = df_single[df_single.construct.str.contains(c.replace('dot','.'))]\n",
    "matFiles = []\n",
    "dFF_ctr = []\n",
    "dFF_mutant = []\n",
    "for d in ['20210706_iGluSnFR/P29a-20210621_iGluSnFR']:\n",
    "# for d in df_sel['date/plate'].unique():\n",
    "    date = d[:17]\n",
    "    plate = d[18:]\n",
    "    matFiles = glob(os.path.join(dataPath,date,plate)+'/*.mat')\n",
    "    matFiles_ctr = [m for m in matFiles if ctr in m and stim in m]\n",
    "    matFiles_mutant = [m for m in matFiles if c in m and stim in m]\n",
    "    for f in matFiles_ctr:\n",
    "        matData = h5py.File(f,'r')\n",
    "        dFF_trace = matData['responsive_traces']['fit']['bleach_bkg_norm_ave_trace'][()]\n",
    "        if dFF_trace.shape[0]!=540:\n",
    "            continue\n",
    "        dFF_ctr.append(dFF_trace)\n",
    "        plt.plot(dFF_trace)\n",
    "    if len(dFF_ctr)==0:\n",
    "#         print(d)\n",
    "        continue\n",
    "    \n",
    "plt.tight_layout()\n",
    "plt.show()"
   ]
  },
  {
   "cell_type": "markdown",
   "id": "b1c08283",
   "metadata": {},
   "source": [
    "#### Videos of top hits"
   ]
  },
  {
   "cell_type": "code",
   "execution_count": null,
   "id": "f94461a9",
   "metadata": {},
   "outputs": [],
   "source": []
  },
  {
   "cell_type": "code",
   "execution_count": null,
   "id": "a4094386",
   "metadata": {},
   "outputs": [],
   "source": []
  },
  {
   "cell_type": "code",
   "execution_count": null,
   "id": "449859c7",
   "metadata": {},
   "outputs": [],
   "source": []
  },
  {
   "cell_type": "markdown",
   "id": "df22e90b",
   "metadata": {},
   "source": [
    "#### Rescreening list\n",
    "- Poor control\n",
    "- Top hits"
   ]
  },
  {
   "cell_type": "code",
   "execution_count": null,
   "id": "857bea32",
   "metadata": {},
   "outputs": [],
   "source": [
    "# df_plot_sel.columns"
   ]
  },
  {
   "cell_type": "code",
   "execution_count": null,
   "id": "75b9216c",
   "metadata": {},
   "outputs": [],
   "source": [
    "stim = '1AP'\n",
    "df_ben = pd.read_csv(sumPath+'/good_%s.csv' %stim)\n",
    "df_plot = pd.DataFrame()"
   ]
  },
  {
   "cell_type": "code",
   "execution_count": null,
   "id": "3656f65c",
   "metadata": {},
   "outputs": [],
   "source": [
    "df_plot['date/plate'] = df_ben['transfect/plate']\n",
    "df_plot['construct'] = df_ben['construct']\n",
    "df_plot['no_pixels'] = df_ben['#pixels<sub>&nbsp;</sub>']\n",
    "df_plot['thre'] = 1+(df_ben['ctrl pdi<sub>&nbsp;</sub>']/100.0)\n",
    "df_plot['ctr_no_pixels'] = df_ben['ctrl #pix<sub>&nbsp;</sub>']\n",
    "\n",
    "# Normalized data\n",
    "df_plot['SNR'] = df_ben['SNR<sub></sub>']\n",
    "df_plot['dFF'] = df_ben['&Delta;F/F<sub>0</sub>']\n",
    "df_plot['fast_dFF'] = df_ben['fast &Delta;F']/df_ben['F<sub>0</sub>']\n",
    "df_plot['fast_dF'] = df_ben['fast &Delta;F']\n",
    "df_plot['F0'] = df_ben['F<sub>0</sub>']\n",
    "df_plot['tau_on'] = df_ben['T<sub>on</sub>']\n",
    "df_plot['tau_off'] = df_ben['T<sub>off</sub>']\n",
    "df_plot['dFF_Tau_on_ratio'] = df_ben['&Delta;F/F<sub>0</sub>']/df_ben['T<sub>on</sub>']\n",
    "\n",
    "# Unnormalized data\n",
    "df_plot['SNR_unnorm'] = df_ben['unnormalized']\n",
    "df_plot['dFF_unnorm'] = df_ben['unnormalized.1']\n",
    "df_plot['fast_dFF_unnorm'] = df_ben['unnormalized.2']/df_ben['unnormalized.3']\n",
    "df_plot['F0_unnorm'] = df_ben['unnormalized.3']\n",
    "df_plot['tau_on_unnorm'] = df_ben['unnormalized.4']\n",
    "df_plot['tau_off_unnorm'] = df_ben['unnormalized.5']\n",
    "\n",
    "# Control data\n",
    "df_plot['ctr_SNR'] = df_ben['unnormalized']/df_ben['SNR<sub></sub>']\n",
    "df_plot['ctr_dFF'] = df_ben['ctrl &Delta;F/F<sub>0</sub>']\n",
    "df_plot['ctr_fast_dF'] = df_ben['unnormalized.2']/df_ben['fast &Delta;F']\n",
    "df_plot['ctr_fast_dFF'] = (df_ben['unnormalized.2']/df_ben['fast &Delta;F'])/(df_ben['unnormalized.3']/df_ben['F<sub>0</sub>'])\n",
    "df_plot['ctr_F0'] = df_ben['unnormalized.3']/df_ben['F<sub>0</sub>']\n",
    "df_plot['ctr_tau_on'] = df_ben['unnormalized.4']/df_ben['T<sub>on</sub>']\n",
    "df_plot['ctr_tau_off'] = df_ben['unnormalized.5']/df_ben['T<sub>off</sub>']\n",
    "df_plot['ctr_dFF_Tau_on_ratio'] = df_ben['ctrl &Delta;F/F<sub>0</sub>']/df_ben['unnormalized.4']/df_ben['T<sub>on</sub>']\n",
    "\n",
    "df_plot.shape"
   ]
  },
  {
   "cell_type": "code",
   "execution_count": null,
   "id": "31ba9853",
   "metadata": {},
   "outputs": [],
   "source": [
    "C = []\n",
    "for i,r in df_plot.iterrows():\n",
    "    C.append(r['construct'].split('.')[1]+'.'+r['construct'].split('.')[2])\n",
    "df_plot['construct_id'] = C\n",
    "df_plot = df_plot.sort_values(by=['date/plate','construct_id'],ascending=True,ignore_index=True)"
   ]
  },
  {
   "cell_type": "code",
   "execution_count": null,
   "id": "4efc5bfb",
   "metadata": {},
   "outputs": [],
   "source": []
  },
  {
   "cell_type": "code",
   "execution_count": null,
   "id": "3354bdec",
   "metadata": {},
   "outputs": [],
   "source": [
    "top_hits"
   ]
  },
  {
   "cell_type": "code",
   "execution_count": null,
   "id": "5f49bb63",
   "metadata": {},
   "outputs": [],
   "source": [
    "df_plot_sel = df_single"
   ]
  },
  {
   "cell_type": "code",
   "execution_count": null,
   "id": "50992448",
   "metadata": {},
   "outputs": [],
   "source": [
    "plt.figure(figsize=[13,26])\n",
    "plt.rc('font', size=13)\n",
    "sp = 1\n",
    "# for c in ['633.9139']:\n",
    "for c in A:\n",
    "    df_ben_sel = df_plot_sel[df_plot_sel.construct.str.contains(c)]\n",
    "    df_ben_sel.index = np.arange(len(df_ben_sel))\n",
    "    matFiles = []\n",
    "    for i,r in df_ben_sel.iterrows():\n",
    "        date = r['date/plate'][:17]\n",
    "        plate = r['date/plate'][18:]\n",
    "#         print(date,plate)\n",
    "        matFile = glob(os.path.join(dataPath,date,plate)+'/*.mat')\n",
    "#         print(matFile)\n",
    "        matFile_c = []\n",
    "        for f in matFile:\n",
    "            matFiles.append(f)\n",
    "            matFile_c.append(os.path.basename(f).split('-')[1])\n",
    "    kw = c.replace('.','dot')\n",
    "    matFiles_sel = [m for m in matFiles if kw in m]\n",
    "    matFiles_sel = sorted(matFiles_sel)\n",
    "    matFiles_stim = [m for m in matFiles_sel if stim in m]\n",
    "    matFiles_stim = [m for m in matFiles_stim if m.split('-')[-2] == kw]\n",
    "#     print(len(matFiles_stim))\n",
    "\n",
    "    dFF_traces = []\n",
    "\n",
    "    for matFile in matFiles_stim:\n",
    "        matData = h5py.File(matFile,'r')\n",
    "        dFF_trace = matData['responsive_traces']['fit']['bleach_bkg_norm_ave_trace'][()]\n",
    "#             print(dFF_trace.shape)\n",
    "    #     if dFF_trace.shape[0]!=798:\n",
    "        if dFF_trace.shape[0]!=540:\n",
    "            continue\n",
    "        dFF_traces.append(dFF_trace)\n",
    "    if len(dFF_traces)==0:\n",
    "        continue\n",
    "    mean = np.nanmean(dFF_traces,axis=0)\n",
    "    err = np.nanstd(dFF_traces,axis=0)/np.sqrt(len(dFF_traces))\n",
    "    x = np.arange(mean.shape[0])/181.4815\n",
    "    ax = plt.subplot(10,5,sp)\n",
    "    # plt.errorbar(x[120:200]-x[120],mean[120:200],yerr=err[120:200],color='k',ecolor='gray')\n",
    "    plt.errorbar(x,mean,yerr=err,color='k',ecolor='gray')\n",
    "\n",
    "    ax.set_ylabel('\\u0394F/F0 (%)',size=14)\n",
    "    ax.set_xlabel('s',size=14)\n",
    "    ax.set_title(c)\n",
    "    sp+=1\n",
    "\n",
    "\n",
    "plt.tight_layout()\n",
    "plt.savefig(savePath+'/dFF_traces_single.svg',fmt='svg')\n",
    "plt.show()"
   ]
  },
  {
   "cell_type": "code",
   "execution_count": null,
   "id": "91c9c76e",
   "metadata": {},
   "outputs": [],
   "source": [
    "# matFiles_stim"
   ]
  },
  {
   "cell_type": "code",
   "execution_count": null,
   "id": "d5efe5fe",
   "metadata": {},
   "outputs": [],
   "source": [
    "for a in top_hits:\n",
    "    print(a)"
   ]
  },
  {
   "cell_type": "markdown",
   "id": "65a9e009",
   "metadata": {},
   "source": [
    "#### Kerr plot - combo mutants and the single parents"
   ]
  },
  {
   "cell_type": "code",
   "execution_count": null,
   "id": "276e386d",
   "metadata": {},
   "outputs": [],
   "source": [
    "sumPath = '/Users/zhengj10/Desktop/iGluSnFR'\n",
    "stim = '1AP'\n",
    "df_comp_single_vs_combo = pd.read_pickle(sumPath+'/iGluSnFR_screen_comp_single_vs_combo_%s.pkl' %stim)"
   ]
  },
  {
   "cell_type": "code",
   "execution_count": null,
   "id": "47118e11",
   "metadata": {},
   "outputs": [],
   "source": [
    "df_comp_single_vs_combo = df_comp_single_vs_combo.sort_values(by='construct_id',ascending=True,ignore_index=True)\n",
    "df_comp_single_vs_combo.loc[79,'construct_id']"
   ]
  },
  {
   "cell_type": "code",
   "execution_count": null,
   "id": "7fc03960",
   "metadata": {},
   "outputs": [],
   "source": [
    "# df_comp_single_vs_combo"
   ]
  },
  {
   "cell_type": "code",
   "execution_count": null,
   "id": "e38a9d17",
   "metadata": {},
   "outputs": [],
   "source": [
    "df_plot_sel_s = df_comp_single_vs_combo.loc[:79,:]\n",
    "df_plot_sel_s= df_plot_sel_s.dropna()\n",
    "df_plot_sel_s= df_plot_sel_s[df_plot_sel_s['no_pixels']>1e4]\n",
    "df_plot_sel_s = df_plot_sel_s.sort_values(by=param,ascending=False)\n",
    "\n",
    "df_plot_sel_c = df_comp_single_vs_combo.loc[80:,:]\n",
    "df_plot_sel_c= df_plot_sel_c.dropna()\n",
    "df_plot_sel_c= df_plot_sel_c[df_plot_sel_c['no_pixels']>1e4]\n",
    "df_plot_sel_c = df_plot_sel_c.sort_values(by=param,ascending=False)"
   ]
  },
  {
   "cell_type": "code",
   "execution_count": null,
   "id": "51786375",
   "metadata": {},
   "outputs": [],
   "source": [
    "sns.set_style(style='whitegrid')\n",
    "fig = plt.figure(figsize=(12,7))\n",
    "plt.rc('font', size=13)\n",
    "ax = plt.subplot(111)\n",
    "\n",
    "scale = 20\n",
    "\n",
    "if param == 'fast_dF':\n",
    "    single = plt.scatter(df_plot_sel_s[param],df_plot_sel_s['dFF'],c=df_plot_sel_s['tau_off'],marker='x',\n",
    "                         s=df_plot_sel_s['F0']*scale, cmap=\"jet\")\n",
    "    combo = plt.scatter(df_plot_sel_c[param],df_plot_sel_c['dFF'],c=df_plot_sel_c['tau_off'],\n",
    "                        s=df_plot_sel_c['F0']*scale, cmap=\"jet\")\n",
    "    plt.clim(np.quantile(df_plot_sel_c['tau_off'],0.1),np.quantile(df_plot_sel_c['tau_off'],0.9))\n",
    "    cbar = plt.colorbar(combo,aspect=50)\n",
    "    cbar.ax.set_ylabel('Norm. Tau off', rotation=90)\n",
    "# else:\n",
    "#     single = plt.scatter(df_plot_sel_s[param],df_plot_sel_s['dFF'],c=df_plot_sel_s['tau_on'],marker='x',\n",
    "#                          s=df_plot_sel_s['F0']*scale, cmap=\"jet\")\n",
    "#     combo = plt.scatter(df_plot_sel_c[param],df_plot_sel_c['dFF'],c=df_plot_sel_c['tau_on'],\n",
    "#                         s=df_plot_sel_c['F0']*scale, cmap=\"jet\")\n",
    "#     plt.clim(np.quantile(df_plot_sel_c['tau_on'],0.1),np.quantile(df_plot_sel_c['tau_on'],0.9))\n",
    "#     cbar = plt.colorbar(combo,aspect=50)\n",
    "#     cbar.ax.set_ylabel('Norm. Tau on', rotation=90)\n",
    "\n",
    "construct_l = df_plot_sel_c.construct.to_list()\n",
    "param_l = df_plot_sel_c[param].to_list()\n",
    "f_dF_l = df_plot_sel_c.fast_dF.to_list()\n",
    "dFF_l = df_plot_sel_c.dFF.to_list()\n",
    "no_pixels_l = df_plot_sel_c.no_pixels.to_list()\n",
    "tau_on_l = df_plot_sel_c.tau_on.to_list()\n",
    "tau_off_l = df_plot_sel_c.tau_off.to_list()\n",
    "F0_l = df_plot_sel_c.F0.to_list()\n",
    "\n",
    "thre_l = df_plot_sel.thre.to_list()\n",
    "\n",
    "top_hits = []\n",
    "top_hits_full = []\n",
    "\n",
    "text_height = (ax.get_ylim()[1]-ax.get_ylim()[0])/40\n",
    "\n",
    "for i,construct in enumerate(construct_l):\n",
    "    \n",
    "    if param_l[i]>thre_l[i]*2.5 and tau_on_l[i]<1.5:\n",
    "        if ';' in construct:\n",
    "            if construct.split(';')[0][-5]=='.':\n",
    "                ax.text(param_l[i],dFF_l[i]+text_height, \"%s\" %construct.split(';')[0][-8:], ha=\"center\",size=12)\n",
    "                top_hits.append(construct.split(';')[0][-8:])\n",
    "                top_hits_full.append(construct)\n",
    "            else:\n",
    "                ax.text(param_l[i],dFF_l[i]+text_height, \"%s\" %construct.split(';')[0][-7:], ha=\"center\",size=12)\n",
    "                top_hits.append(construct.split(';')[0][-7:])\n",
    "                top_hits_full.append(construct)\n",
    "\n",
    "        elif construct[-5]=='.':\n",
    "            ax.text(param_l[i],dFF_l[i]+text_height, \"%s\" %construct[-8:], ha=\"center\",size=12)\n",
    "            top_hits.append(construct[-8:])\n",
    "            top_hits_full.append(construct)\n",
    "\n",
    "        else:\n",
    "            ax.text(param_l[i],dFF_l[i]+text_height, \"%s\" %construct[-7:], ha=\"center\",size=12)\n",
    "            top_hits.append(construct[-7:])\n",
    "            top_hits_full.append(construct)\n",
    "\n",
    "\n",
    "label_dict={'dFF':'\\u0394F/F0','fast_dF':'fast \\u0394F'}\n",
    "ax.set_xlabel('Norm. %s (%s)' %(label_dict[param],stim),size=14)\n",
    "ax.set_ylabel('Norm. \\u0394F/F0',size=14)\n",
    "# plt.legend(*all_sensors.legend_elements(\"sizes\", num = 5,func = lambda x: x/scale),title='Norm. F0')\n",
    "plt.tight_layout()\n",
    "savePath = '/Volumes/genie-1/Presentations/Jihong/GENIE production/221122/iGluSnFR_screening'\n",
    "if not os.path.exists(savePath):\n",
    "    os.makedirs(savePath)\n",
    "# fig.savefig(savePath+'/Kerr_single_vs_combo_%s_%s_.svg' %(param,stim),format='svg')\n",
    "plt.show()"
   ]
  },
  {
   "cell_type": "code",
   "execution_count": null,
   "id": "cebc3741",
   "metadata": {},
   "outputs": [],
   "source": [
    "param"
   ]
  },
  {
   "cell_type": "code",
   "execution_count": null,
   "id": "3d5d90c9",
   "metadata": {},
   "outputs": [],
   "source": []
  },
  {
   "cell_type": "code",
   "execution_count": null,
   "id": "3401d7d8",
   "metadata": {},
   "outputs": [],
   "source": []
  }
 ],
 "metadata": {
  "kernelspec": {
   "display_name": "Python 3 (ipykernel)",
   "language": "python",
   "name": "python3"
  },
  "language_info": {
   "codemirror_mode": {
    "name": "ipython",
    "version": 3
   },
   "file_extension": ".py",
   "mimetype": "text/x-python",
   "name": "python",
   "nbconvert_exporter": "python",
   "pygments_lexer": "ipython3",
   "version": "3.9.7"
  }
 },
 "nbformat": 4,
 "nbformat_minor": 5
}
