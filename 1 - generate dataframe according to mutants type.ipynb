{
 "cells": [
  {
   "cell_type": "code",
   "execution_count": 1,
   "metadata": {},
   "outputs": [],
   "source": [
    "import pandas as pd\n",
    "import matplotlib.pyplot as plt\n",
    "import h5py\n",
    "import scipy.signal as ss\n",
    "import seaborn as sns\n",
    "import numpy as np\n",
    "from skimage.io import imread\n",
    "from glob import glob\n",
    "import os\n",
    "import h5py"
   ]
  },
  {
   "cell_type": "markdown",
   "metadata": {},
   "source": [
    "### Load Ben's processed data and apply filter\n",
    "---\n",
    "#### Download the following files from /Volumes/genie/BenArthur/GETI-screen/kaspars-method-v2 to sumPath\n",
    "- summary-good-1AP.csv\n",
    "- summary-good-20AP.csv"
   ]
  },
  {
   "cell_type": "code",
   "execution_count": 2,
   "metadata": {},
   "outputs": [],
   "source": [
    "sumPath = '/Users/zhengj10/Desktop/iGluSnFR'"
   ]
  },
  {
   "cell_type": "code",
   "execution_count": 3,
   "metadata": {},
   "outputs": [
    {
     "name": "stdout",
     "output_type": "stream",
     "text": [
      "(11783, 32)\n"
     ]
    },
    {
     "data": {
      "text/plain": [
       "(9270,)"
      ]
     },
     "execution_count": 3,
     "metadata": {},
     "output_type": "execute_result"
    }
   ],
   "source": [
    "stim = '1AP'\n",
    "df_ben = pd.read_csv(sumPath+'/good_%s.csv' %stim)\n",
    "print(df_ben.shape)\n",
    "df_ben.construct.unique().shape"
   ]
  },
  {
   "cell_type": "code",
   "execution_count": 4,
   "metadata": {},
   "outputs": [],
   "source": [
    "# df_ben['transfect/plate'].unique()\n",
    "# df_ben.sort_values(by='transfect/plate',ascending=False).to_excel('/Users/zhengj10/Desktop/test.xlsx')\n",
    "# df_ben.sort_values(by='transfect/plate',ascending=False)\n",
    "# df_ben[df_ben['construct'].str.contains('6428')]"
   ]
  },
  {
   "cell_type": "markdown",
   "metadata": {},
   "source": [
    "#### Extract params from .csv file with explicit param names"
   ]
  },
  {
   "cell_type": "code",
   "execution_count": 5,
   "metadata": {},
   "outputs": [
    {
     "data": {
      "text/plain": [
       "Index(['construct', 'transfect/plate', 'F<sub>0</sub>', 'pval 1-tailed',\n",
       "       'pval 2-tailed', 'unnormalized', '&#916;F/F<sub>0</sub>*&#8730;F0',\n",
       "       'pval 1-tailed.1', 'pval 2-tailed.1', 'unnormalized.1',\n",
       "       '&Delta;F/F<sub>0</sub>', 'pval 1-tailed.2', 'pval 2-tailed.2',\n",
       "       'unnormalized.2', 'T<sub>off</sub>', 'pval 1-tailed.3',\n",
       "       'pval 2-tailed.3', 'unnormalized.3', 'T<sub>on</sub>',\n",
       "       'pval 1-tailed.4', 'pval 2-tailed.4', 'unnormalized.4', 'fast &Delta;F',\n",
       "       'pval 1-tailed.5', 'pval 2-tailed.5', 'unnormalized.5',\n",
       "       '#pixels<sub>&nbsp;</sub>', '#wells<sub>&nbsp;</sub>',\n",
       "       'ctrl #pix<sub>&nbsp;</sub>', 'ctrl pdi<sub>&nbsp;</sub>',\n",
       "       'ctrl &Delta;F/F<sub>0</sub>', 'isbad?'],\n",
       "      dtype='object')"
      ]
     },
     "execution_count": 5,
     "metadata": {},
     "output_type": "execute_result"
    }
   ],
   "source": [
    "df_plot = pd.DataFrame()\n",
    "df_ben.columns"
   ]
  },
  {
   "cell_type": "code",
   "execution_count": 6,
   "metadata": {},
   "outputs": [
    {
     "data": {
      "text/plain": [
       "(11783, 25)"
      ]
     },
     "execution_count": 6,
     "metadata": {},
     "output_type": "execute_result"
    }
   ],
   "source": [
    "df_plot['date/plate'] = df_ben['transfect/plate']\n",
    "df_plot['construct'] = df_ben['construct']\n",
    "df_plot['no_pixels'] = df_ben['#pixels<sub>&nbsp;</sub>']\n",
    "df_plot['thre'] = 1+(df_ben['ctrl pdi<sub>&nbsp;</sub>']/100.0)\n",
    "df_plot['ctr_no_pixels'] = df_ben['ctrl #pix<sub>&nbsp;</sub>']\n",
    "\n",
    "# Normalized data\n",
    "# df_plot['SNR'] = df_ben['SNR<sub></sub>'] # SNR data unavailable in data re-analyzed in Jan.2023\n",
    "df_plot['dFF'] = df_ben['&Delta;F/F<sub>0</sub>']\n",
    "df_plot['fast_dF'] = df_ben['fast &Delta;F']\n",
    "df_plot['fast_dFF'] = df_ben['fast &Delta;F']/df_ben['F<sub>0</sub>']\n",
    "df_plot['F0'] = df_ben['F<sub>0</sub>']\n",
    "df_plot['tau_on'] = df_ben['T<sub>on</sub>']\n",
    "df_plot['tau_off'] = df_ben['T<sub>off</sub>']\n",
    "df_plot['dFF_Tau_on_ratio'] = df_ben['&Delta;F/F<sub>0</sub>']/df_ben['T<sub>on</sub>']\n",
    "\n",
    "# Unnormalized data\n",
    "# df_plot['SNR_unnorm'] = df_ben['unnormalized'] # SNR data unavailable in data re-analyzed in Jan.2023\n",
    "df_plot['dFF_unnorm'] = df_ben['unnormalized.2']\n",
    "df_plot['fast_dF_unnorm'] = df_ben['unnormalized.5']\n",
    "df_plot['fast_dFF_unnorm'] = df_ben['unnormalized.5']/df_ben['unnormalized']\n",
    "df_plot['F0_unnorm'] = df_ben['unnormalized']\n",
    "df_plot['tau_on_unnorm'] = df_ben['unnormalized.4']\n",
    "df_plot['tau_off_unnorm'] = df_ben['unnormalized.3']\n",
    "\n",
    "# Control data\n",
    "# df_plot['ctr_SNR'] = df_ben['unnormalized']/df_ben['SNR<sub></sub>'] # SNR data unavailable in data re-analyzed in Jan.2023\n",
    "df_plot['ctr_dFF'] = df_ben['ctrl &Delta;F/F<sub>0</sub>']\n",
    "df_plot['ctr_fast_dF'] = df_ben['unnormalized.5']/df_ben['fast &Delta;F']\n",
    "df_plot['ctr_fast_dFF'] = (df_ben['unnormalized.5']/df_ben['fast &Delta;F'])/(df_ben['unnormalized']/df_ben['F<sub>0</sub>'])\n",
    "df_plot['ctr_F0'] = df_ben['unnormalized']/df_ben['F<sub>0</sub>']\n",
    "df_plot['ctr_tau_on'] = df_ben['unnormalized.4']/df_ben['T<sub>on</sub>']\n",
    "df_plot['ctr_tau_off'] = df_ben['unnormalized.5']/df_ben['T<sub>off</sub>']\n",
    "df_plot['ctr_dFF_Tau_on_ratio'] = df_ben['ctrl &Delta;F/F<sub>0</sub>']/df_ben['unnormalized.4']/df_ben['T<sub>on</sub>']\n",
    "\n",
    "df_plot.shape"
   ]
  },
  {
   "cell_type": "code",
   "execution_count": 7,
   "metadata": {},
   "outputs": [],
   "source": [
    "# df_plot[df_plot['date/plate']=='20221128_iGluSnFR/P11a-20221114_iGluSnFR'].construct.unique()"
   ]
  },
  {
   "cell_type": "markdown",
   "metadata": {},
   "source": [
    "#### Add another column of construct id"
   ]
  },
  {
   "cell_type": "code",
   "execution_count": 8,
   "metadata": {},
   "outputs": [],
   "source": [
    "C = []\n",
    "C_dot = []\n",
    "for i,r in df_plot.iterrows():\n",
    "    c = r['construct'].split('.')[1]+'.'+r['construct'].split('.')[2]\n",
    "    c = c.split(';')[0]\n",
    "    c_dot = c.replace('.','dot')\n",
    "    C.append(c)\n",
    "    C_dot.append(c_dot)\n",
    "df_plot['construct_id'] = C\n",
    "df_plot['construct_id_dot'] = C_dot\n",
    "df_plot = df_plot.sort_values(by=['date/plate','construct_id'],ascending=True,ignore_index=True)"
   ]
  },
  {
   "cell_type": "code",
   "execution_count": 9,
   "metadata": {},
   "outputs": [
    {
     "name": "stdout",
     "output_type": "stream",
     "text": [
      "633.6412\n"
     ]
    },
    {
     "data": {
      "text/plain": [
       "'633.7887'"
      ]
     },
     "execution_count": 9,
     "metadata": {},
     "output_type": "execute_result"
    }
   ],
   "source": [
    "print(df_plot.loc[9156,'construct_id']) # Last single: 633.6412\n",
    "df_plot.loc[9157,'construct_id'] # First combo: 7887 is the 1st combo"
   ]
  },
  {
   "cell_type": "markdown",
   "metadata": {},
   "source": [
    "#### Create seperate dateframe for single, combo and mixed (combo and their single parents)"
   ]
  },
  {
   "cell_type": "code",
   "execution_count": 10,
   "metadata": {},
   "outputs": [],
   "source": [
    "idx = 9156 # last single mutant after sorting data by ['date/plate','construct_id'] 633.6412\n",
    "df_single = df_plot.loc[:idx,:]\n",
    "df_combo = df_plot.loc[idx+1:,:] # 7883 is the start of iGluSnFR-combo according to GT (7883 not in constructs)\n",
    "df_combo = df_combo[~df_combo['construct_id'].isin(df_single['construct_id'].unique())]\n",
    "\n",
    "# List of date/plate (l) for combo and single parents\n",
    "l = ['20220822_iGluSnFR/P',\n",
    "    '20220927_iGluSnFR/P',\n",
    "    '20221004_iGluSnFR/P',\n",
    "    '20221011_iGluSnFR/P',\n",
    "    '20221024_iGluSnFR/P']\n",
    "\n",
    "df_t = pd.DataFrame()\n",
    "for d in l:\n",
    "    df_t = pd.concat([df_t,df_plot[df_plot['date/plate'].str.contains(d)]],axis=0)\n",
    "df_comp_single_vs_combo = df_plot[df_plot['date/plate'].isin(df_t['date/plate'].unique())]"
   ]
  },
  {
   "cell_type": "code",
   "execution_count": 11,
   "metadata": {},
   "outputs": [
    {
     "data": {
      "text/plain": [
       "(1641,)"
      ]
     },
     "execution_count": 11,
     "metadata": {},
     "output_type": "execute_result"
    }
   ],
   "source": [
    "df_single.shape\n",
    "# df_combo.shape\n",
    "df_single.construct.unique().shape\n",
    "df_combo.construct.unique().shape"
   ]
  },
  {
   "cell_type": "code",
   "execution_count": null,
   "metadata": {},
   "outputs": [],
   "source": []
  },
  {
   "cell_type": "markdown",
   "metadata": {},
   "source": [
    "#### Save each dataframe to pickle file for loading with plotting script"
   ]
  },
  {
   "cell_type": "code",
   "execution_count": 12,
   "metadata": {},
   "outputs": [],
   "source": [
    "df_single.to_pickle(sumPath+'/iGluSnFR_screen_single_%s.pkl' %stim)\n",
    "df_combo.to_pickle(sumPath+'/iGluSnFR_screen_combo_%s.pkl' %stim)\n",
    "df_comp_single_vs_combo.to_pickle(sumPath+'/iGluSnFR_screen_comp_single_vs_combo_%s.pkl' %stim)"
   ]
  },
  {
   "cell_type": "code",
   "execution_count": null,
   "metadata": {},
   "outputs": [],
   "source": [
    "df_plot = df_plot.dropna()\n",
    "df_plot = df_plot[df_plot['no_pixels']>1e4]\n",
    "df_plot.shape"
   ]
  },
  {
   "cell_type": "code",
   "execution_count": null,
   "metadata": {},
   "outputs": [],
   "source": [
    "sns.set_style(style='whitegrid')\n",
    "fig = plt.figure(figsize=(13,7.5))\n",
    "plt.rc('font', size=13)\n",
    "ax = plt.subplot(111)\n",
    "\n",
    "scale = 20 # for combo mutants\n",
    "all_sensors = plt.scatter(df_plot['fast_dF'],df_plot['tau_off'],c=df_plot['no_pixels'],s=df_plot['F0']*scale,\n",
    "                          cmap=\"jet\")\n",
    "\n",
    "plt.clim(a,b)\n",
    "cbar = plt.colorbar(all_sensors,aspect=50)\n",
    "cbar.ax.set_ylabel('No. pixels',rotation=90,size=14)\n",
    "\n",
    "plt.legend(*all_sensors.legend_elements(\"sizes\", num = 5,func = lambda x: x/scale),title='Norm. F0')\n",
    "ax.set_xlabel('Norm. fast \\u0394F (1AP)',size=14)\n",
    "ax.set_ylabel('Norm. tau off (1AP)',size=14)\n",
    "\n",
    "\n",
    "plt.tight_layout()\n",
    "savePath = '/Volumes/genie/Presentations/Jihong/GENIE production/221220/iGluSnFR_screening'\n",
    "if not os.path.exists(savePath):\n",
    "    os.makedirs(savePath)\n",
    "# plt.savefig(savePath+'/Kerr.svg',format='svg')\n",
    "# plt.savefig('/Users/zhengj10/Desktop/20AP.pdf',format='pdf')\n",
    "plt.show()"
   ]
  },
  {
   "cell_type": "code",
   "execution_count": null,
   "metadata": {},
   "outputs": [],
   "source": [
    "a = np.quantile(df_plot['no_pixels'],0.1)\n",
    "b = np.quantile(df_plot['no_pixels'],0.9)"
   ]
  },
  {
   "cell_type": "code",
   "execution_count": null,
   "metadata": {},
   "outputs": [],
   "source": []
  }
 ],
 "metadata": {
  "kernelspec": {
   "display_name": "Python 3 (ipykernel)",
   "language": "python",
   "name": "python3"
  },
  "language_info": {
   "codemirror_mode": {
    "name": "ipython",
    "version": 3
   },
   "file_extension": ".py",
   "mimetype": "text/x-python",
   "name": "python",
   "nbconvert_exporter": "python",
   "pygments_lexer": "ipython3",
   "version": "3.9.7"
  }
 },
 "nbformat": 4,
 "nbformat_minor": 4
}
